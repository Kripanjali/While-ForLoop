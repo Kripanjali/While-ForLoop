{
 "cells": [
  {
   "cell_type": "code",
   "execution_count": 1,
   "id": "8128eec3",
   "metadata": {},
   "outputs": [
    {
     "name": "stdout",
     "output_type": "stream",
     "text": [
      "Enter an integer: 42\n"
     ]
    }
   ],
   "source": [
    "our_number = 42\n",
    "guess = int(input('Enter an integer: '))"
   ]
  },
  {
   "cell_type": "code",
   "execution_count": 2,
   "id": "42e71633",
   "metadata": {},
   "outputs": [
    {
     "name": "stdout",
     "output_type": "stream",
     "text": [
      "Hooray!\n",
      "Done with if statement\n"
     ]
    }
   ],
   "source": [
    "if guess == our_number:\n",
    "    print('Hooray!')\n",
    "elif guess > our_number:\n",
    "    print('Too High!')\n",
    "else:\n",
    "    print('Too Low!')\n",
    "    \n",
    "print('Done with if statement')"
   ]
  },
  {
   "cell_type": "code",
   "execution_count": 3,
   "id": "4f87ea9c",
   "metadata": {},
   "outputs": [
    {
     "name": "stdout",
     "output_type": "stream",
     "text": [
      "Enter an integer:4\n",
      "Even\n"
     ]
    }
   ],
   "source": [
    "user_input = int(input(\"Enter an integer:\"))\n",
    "print(\"Even\" if user_input % 2 == 0 else \"Odd\")"
   ]
  },
  {
   "cell_type": "code",
   "execution_count": null,
   "id": "8ef34376",
   "metadata": {},
   "outputs": [
    {
     "name": "stdout",
     "output_type": "stream",
     "text": [
      "Enter an integer: 45\n",
      "Too High!\n",
      "Enter an integer: 40\n",
      "Too Low!\n",
      "Enter an integer: 42\n",
      "Hooray!\n",
      "Enter an integer: 45\n",
      "Too High!\n",
      "Enter an integer: 84\n",
      "Too High!\n",
      "Enter an integer: 62\n",
      "Too High!\n",
      "Enter an integer: 48\n",
      "Too High!\n"
     ]
    }
   ],
   "source": [
    "our_number = 42\n",
    "is_guessed = False\n",
    "while is_guessed == False:\n",
    "    guess = int(input(\"Enter an integer: \"))\n",
    "    if guess == our_number:\n",
    "        print('Hooray!')\n",
    "        is_guessed == True\n",
    "    elif guess > our_number:\n",
    "        print('Too High!')\n",
    "    else:\n",
    "        print('Too Low!')\n",
    "        \n",
    "print('Done with while loop')"
   ]
  },
  {
   "cell_type": "code",
   "execution_count": null,
   "id": "f4be10f3",
   "metadata": {},
   "outputs": [],
   "source": [
    "our_number = 42\n",
    "is_guessed = False\n",
    "while not is_guessed:\n",
    "    guess = int(input('Enter an integer: '))\n",
    "    if guess == our_number:\n",
    "        print('Hooray!')\n",
    "        is_guessed = 'True'\n",
    "    elif guess > our_number:\n",
    "        print('Too High!')\n",
    "    else:\n",
    "        print('Too Low!')"
   ]
  },
  {
   "cell_type": "code",
   "execution_count": null,
   "id": "bda19a9f",
   "metadata": {},
   "outputs": [],
   "source": [
    "counter = 1\n",
    "while counter < 20:\n",
    "    if counter % 3 == 0 and counter % 5 == 0:\n",
    "        print(str(counter) + ':' + 'Fizzbuzz')\n",
    "    elif counter % 3 == 0:\n",
    "        print(str(counter) + ':' + 'Fizz')\n",
    "    elif counter % 5 == 0:\n",
    "        print(str(counter) + ':' + 'Buzz')\n",
    "    counter+= 1 # counter = counter + 1\n",
    "else:\n",
    "    print('Done with while loop')\n",
    "    "
   ]
  },
  {
   "cell_type": "code",
   "execution_count": null,
   "id": "daeb316c",
   "metadata": {},
   "outputs": [],
   "source": [
    "counter = 1\n",
    "while counter < 20:\n",
    "    if counter % 3 == 0 and counter % 5 == 0:\n",
    "        counter += 1\n",
    "        continue\n",
    "    elif counter % 3 == 0:\n",
    "        print(str(counter) + ': ' + 'Fizz')\n",
    "    elif counter % 5 == 0:\n",
    "        print(str(counter) + ': ' + 'Buzz')\n",
    "    counter += 1\n",
    "else:\n",
    "    print('Done with while loop')"
   ]
  },
  {
   "cell_type": "code",
   "execution_count": null,
   "id": "8e2bee0c",
   "metadata": {},
   "outputs": [],
   "source": [
    "counter = 1\n",
    "while counter < 20:\n",
    "    if counter % 3 == 0 and counter %5 == 0:\n",
    "        break\n",
    "    elif counter % 3 == 0:\n",
    "        print(str(counter) + ':' + 'Fizz')\n",
    "    elif counter % 5 == 0:\n",
    "        print(str(counter) + ':' + 'Buzz')\n",
    "    counter += 1\n",
    "else:\n",
    "    print('Done with while loop')"
   ]
  },
  {
   "cell_type": "code",
   "execution_count": null,
   "id": "ac1bd23b",
   "metadata": {},
   "outputs": [],
   "source": [
    "loop_range = range(1,5)\n",
    "for i in loop_range:\n",
    "    print(str(i) + \":\" + ('*' * i))"
   ]
  },
  {
   "cell_type": "code",
   "execution_count": null,
   "id": "af5a0c2f",
   "metadata": {},
   "outputs": [],
   "source": [
    "loop_range"
   ]
  },
  {
   "cell_type": "code",
   "execution_count": null,
   "id": "5a080c00",
   "metadata": {},
   "outputs": [],
   "source": [
    "max(loop_range)"
   ]
  },
  {
   "cell_type": "code",
   "execution_count": null,
   "id": "ef7c97d0",
   "metadata": {},
   "outputs": [],
   "source": [
    "my_num_to_factor = 20\n",
    "for i in range(1,my_num_to_factor):\n",
    "    if my_num_to_factor % i == 0:\n",
    "        print(str(i))\n",
    "else:\n",
    "    print('Done with for statement')"
   ]
  },
  {
   "cell_type": "code",
   "execution_count": null,
   "id": "fe277f79",
   "metadata": {},
   "outputs": [],
   "source": [
    "my_num_to_factor = 2000\n",
    "for i in range(1,my_num_to_factor):\n",
    "    if i > 100:\n",
    "        break;\n",
    "    if my_num_to_factor % i == 0:\n",
    "        print(str(i))\n",
    "else:\n",
    "    print('For loop is done')\n",
    "\n",
    "print('After Loop')"
   ]
  },
  {
   "cell_type": "code",
   "execution_count": null,
   "id": "c69403da",
   "metadata": {},
   "outputs": [],
   "source": []
  }
 ],
 "metadata": {
  "kernelspec": {
   "display_name": "Python 3 (ipykernel)",
   "language": "python",
   "name": "python3"
  },
  "language_info": {
   "codemirror_mode": {
    "name": "ipython",
    "version": 3
   },
   "file_extension": ".py",
   "mimetype": "text/x-python",
   "name": "python",
   "nbconvert_exporter": "python",
   "pygments_lexer": "ipython3",
   "version": "3.9.12"
  }
 },
 "nbformat": 4,
 "nbformat_minor": 5
}
